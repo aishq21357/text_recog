{
 "cells": [
  {
   "cell_type": "code",
   "execution_count": 1,
   "id": "64481871",
   "metadata": {
    "ExecuteTime": {
     "end_time": "2022-04-02T06:32:12.720497Z",
     "start_time": "2022-04-02T06:32:06.590960Z"
    }
   },
   "outputs": [
    {
     "name": "stdout",
     "output_type": "stream",
     "text": [
      "Collecting textblob\n",
      "  Downloading textblob-0.17.1-py2.py3-none-any.whl (636 kB)\n",
      "Requirement already satisfied: nltk>=3.1 in c:\\users\\starl\\anaconda3\\lib\\site-packages (from textblob) (3.6.5)\n",
      "Requirement already satisfied: click in c:\\users\\starl\\anaconda3\\lib\\site-packages (from nltk>=3.1->textblob) (8.0.3)\n",
      "Requirement already satisfied: joblib in c:\\users\\starl\\anaconda3\\lib\\site-packages (from nltk>=3.1->textblob) (1.0.1)\n",
      "Requirement already satisfied: regex>=2021.8.3 in c:\\users\\starl\\anaconda3\\lib\\site-packages (from nltk>=3.1->textblob) (2021.8.3)\n",
      "Requirement already satisfied: tqdm in c:\\users\\starl\\anaconda3\\lib\\site-packages (from nltk>=3.1->textblob) (4.62.3)\n",
      "Requirement already satisfied: colorama in c:\\users\\starl\\anaconda3\\lib\\site-packages (from click->nltk>=3.1->textblob) (0.4.4)\n",
      "Installing collected packages: textblob\n",
      "Successfully installed textblob-0.17.1\n"
     ]
    }
   ],
   "source": [
    "!pip install textblob"
   ]
  },
  {
   "cell_type": "code",
   "execution_count": 2,
   "id": "69ab4736",
   "metadata": {
    "ExecuteTime": {
     "end_time": "2022-04-02T06:32:52.042254Z",
     "start_time": "2022-04-02T06:32:52.026721Z"
    }
   },
   "outputs": [],
   "source": [
    "from textblob import TextBlob"
   ]
  },
  {
   "cell_type": "code",
   "execution_count": 11,
   "id": "1c48d3ae",
   "metadata": {
    "ExecuteTime": {
     "end_time": "2022-04-02T06:36:13.256580Z",
     "start_time": "2022-04-02T06:36:13.240828Z"
    }
   },
   "outputs": [],
   "source": [
    "f1 = TextBlob(\"the food is good\")\n",
    "f2 = TextBlob(\"the food is terrible\")"
   ]
  },
  {
   "cell_type": "code",
   "execution_count": 12,
   "id": "092963a4",
   "metadata": {
    "ExecuteTime": {
     "end_time": "2022-04-02T06:36:13.571505Z",
     "start_time": "2022-04-02T06:36:13.555475Z"
    }
   },
   "outputs": [
    {
     "data": {
      "text/plain": [
       "Sentiment(polarity=0.7, subjectivity=0.6000000000000001)"
      ]
     },
     "execution_count": 12,
     "metadata": {},
     "output_type": "execute_result"
    }
   ],
   "source": [
    "f1.sentiment"
   ]
  },
  {
   "cell_type": "code",
   "execution_count": 13,
   "id": "cf4cf5a8",
   "metadata": {
    "ExecuteTime": {
     "end_time": "2022-04-02T06:36:14.200618Z",
     "start_time": "2022-04-02T06:36:14.184987Z"
    }
   },
   "outputs": [
    {
     "data": {
      "text/plain": [
       "Sentiment(polarity=-1.0, subjectivity=1.0)"
      ]
     },
     "execution_count": 13,
     "metadata": {},
     "output_type": "execute_result"
    }
   ],
   "source": [
    "f2.sentiment"
   ]
  },
  {
   "cell_type": "code",
   "execution_count": null,
   "id": "e8c27001",
   "metadata": {},
   "outputs": [],
   "source": []
  }
 ],
 "metadata": {
  "kernelspec": {
   "display_name": "Python 3 (ipykernel)",
   "language": "python",
   "name": "python3"
  },
  "language_info": {
   "codemirror_mode": {
    "name": "ipython",
    "version": 3
   },
   "file_extension": ".py",
   "mimetype": "text/x-python",
   "name": "python",
   "nbconvert_exporter": "python",
   "pygments_lexer": "ipython3",
   "version": "3.9.7"
  }
 },
 "nbformat": 4,
 "nbformat_minor": 5
}
